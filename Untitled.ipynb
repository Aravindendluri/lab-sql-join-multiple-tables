{
 "cells": [
  {
   "cell_type": "code",
   "execution_count": null,
   "id": "6ccbf33d",
   "metadata": {},
   "outputs": [],
   "source": [
    "-- Instructions\n",
    "use sakila;\n",
    "Write a query to display for each store its store ID, city, and country.\n",
    "SELECT s.store_id, ci.city, co.country\n",
    "FROM store s\n",
    "JOIN address a ON s.address_id=a.address_id\n",
    "JOIN city ci ON ci.city_id=a.city_id\n",
    "JOIN country co ON co.country_id=ci.country_id;"
   ]
  }
 ],
 "metadata": {
  "kernelspec": {
   "display_name": "Python 3 (ipykernel)",
   "language": "python",
   "name": "python3"
  },
  "language_info": {
   "codemirror_mode": {
    "name": "ipython",
    "version": 3
   },
   "file_extension": ".py",
   "mimetype": "text/x-python",
   "name": "python",
   "nbconvert_exporter": "python",
   "pygments_lexer": "ipython3",
   "version": "3.9.7"
  }
 },
 "nbformat": 4,
 "nbformat_minor": 5
}
